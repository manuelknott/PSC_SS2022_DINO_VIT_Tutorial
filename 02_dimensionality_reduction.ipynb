{
 "cells": [
  {
   "cell_type": "code",
   "execution_count": null,
   "id": "4576d414-6f4c-47ef-8337-b0ca292d40a8",
   "metadata": {},
   "outputs": [],
   "source": [
    "# uncomment, modify and run this of you work with Google colab to mount the required data\n",
    "\n",
    "#import os\n",
    "#from google.colab import drive\n",
    "#drive.mount('/content/drive')\n",
    "#os.chdir(\"/content/drive/MyDrive/DINO_VIT_Tutorial\") # insert your path where the downloaded data folder is"
   ]
  },
  {
   "cell_type": "markdown",
   "id": "8dc8dfed-70d0-4fc6-a3ca-4164103ecc77",
   "metadata": {
    "tags": []
   },
   "source": [
    "# Dimenionsionality Reduction and Visualisation\n",
    "\n",
    "We can use our newly generated feature embeddings and visualize samples in a 2D scatter plot.\n",
    "\n",
    "For that, we need to apply dimensionality reduction methods, such as PCA."
   ]
  },
  {
   "cell_type": "code",
   "execution_count": null,
   "id": "737ce33f-6b12-42ac-9459-05a30b7620f1",
   "metadata": {},
   "outputs": [],
   "source": [
    "import numpy as np\n",
    "import matplotlib.pyplot as plt\n",
    "from sklearn.decomposition import PCA"
   ]
  },
  {
   "cell_type": "code",
   "execution_count": null,
   "id": "b8fba543-ad2e-4ae6-9437-7eeb29286284",
   "metadata": {},
   "outputs": [],
   "source": [
    "vgg_embeddings = np.load(f\"./data/fayoum_banana/embeddings/vgg11.npy\")\n",
    "dinovit_embeddings = np.load(f\"./data/fayoum_banana/embeddings/dino_vits16.npy\")\n",
    "labels = np.load(f\"./data/fayoum_banana/embeddings/labels.npy\")"
   ]
  },
  {
   "cell_type": "code",
   "execution_count": null,
   "id": "38c4e00d-11cf-47cd-a22e-5e751fffb0c1",
   "metadata": {},
   "outputs": [],
   "source": [
    "vgg_pc = PCA(n_components=2, random_state=42).fit_transform(vgg_embeddings)\n",
    "dinovit_pc = PCA(n_components=2, random_state=42).fit_transform(dinovit_embeddings)"
   ]
  },
  {
   "cell_type": "markdown",
   "id": "d70865f7-8a14-44aa-a8a0-9b4efbe7c52f",
   "metadata": {},
   "source": [
    "**Let's make a simple 2D scatter plot using matplotlib.**"
   ]
  },
  {
   "cell_type": "code",
   "execution_count": null,
   "id": "51df4d1c-e23d-4f70-8bae-ff88287f0483",
   "metadata": {},
   "outputs": [],
   "source": [
    "plt.scatter(vgg_pc[:, 0], vgg_pc[:, 1], c=labels);"
   ]
  },
  {
   "cell_type": "code",
   "execution_count": null,
   "id": "3b111d6c-8ec7-4c52-b9ba-8e7ec80db76b",
   "metadata": {},
   "outputs": [],
   "source": [
    "plt.scatter(dinovit_pc[:, 0], dinovit_pc[:, 1], c=labels);"
   ]
  },
  {
   "cell_type": "markdown",
   "id": "33c39e47-1ae9-42d8-aa4c-22ddc2d9d373",
   "metadata": {},
   "source": [
    "# Task (15 minutes)\n",
    "\n",
    "- Generate 2D scatter plots for other feature embeddings from both CNNs and ViTs. Which can separate the classes better?\n",
    "- Try other methods for dimensionality reduction. You can for example have a look at [T-SNE](https://scikit-learn.org/stable/modules/generated/sklearn.manifold.TSNE.html)"
   ]
  },
  {
   "cell_type": "code",
   "execution_count": null,
   "id": "e62cd051-6c48-4e14-b865-2ebeac89721e",
   "metadata": {},
   "outputs": [],
   "source": []
  }
 ],
 "metadata": {
  "kernelspec": {
   "display_name": "Python 3 (ipykernel)",
   "language": "python",
   "name": "python3"
  },
  "language_info": {
   "codemirror_mode": {
    "name": "ipython",
    "version": 3
   },
   "file_extension": ".py",
   "mimetype": "text/x-python",
   "name": "python",
   "nbconvert_exporter": "python",
   "pygments_lexer": "ipython3",
   "version": "3.8.9"
  }
 },
 "nbformat": 4,
 "nbformat_minor": 5
}