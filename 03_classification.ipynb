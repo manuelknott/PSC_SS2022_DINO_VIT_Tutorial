{
 "cells": [
  {
   "cell_type": "code",
   "execution_count": 1,
   "id": "dfb4ddc9-ffe4-4a28-920f-2424e3a439a6",
   "metadata": {},
   "outputs": [],
   "source": [
    "# uncomment, modify and run this of you work with Google colab to mount the required data\n",
    "\n",
    "#import os\n",
    "#from google.colab import drive\n",
    "#drive.mount('/content/drive')\n",
    "#os.chdir(\"/content/drive/MyDrive/DINO_VIT_Tutorial\") # insert your path where the downloaded data folder is"
   ]
  },
  {
   "cell_type": "code",
   "execution_count": 2,
   "id": "97ef5e29-f3ea-49ac-99c4-fab456305a32",
   "metadata": {
    "tags": []
   },
   "outputs": [],
   "source": [
    "import numpy as np\n",
    "\n",
    "from sklearn.model_selection import train_test_split, GridSearchCV\n",
    "from sklearn.linear_model import LogisticRegression\n",
    "from sklearn.neighbors import KNeighborsClassifier\n",
    "from sklearn.metrics import classification_report, precision_recall_fscore_support, accuracy_score"
   ]
  },
  {
   "cell_type": "markdown",
   "id": "4df35007-e565-4be0-9d8f-9b23481a4782",
   "metadata": {},
   "source": [
    "# Classification\n",
    "\n",
    "Now we will are using the apple data set to make things a bit more interesting.\n",
    "It is a binary classification task (\"healthy\" vs. \"damaged\"). We will evaluate how well different embeddings combined with different shallow classifiers do."
   ]
  },
  {
   "cell_type": "code",
   "execution_count": 3,
   "id": "e6964481-7052-4208-aa63-dda15272c863",
   "metadata": {},
   "outputs": [],
   "source": [
    "X = np.load(\"./data/cascifw_apple/embeddings/dino_vits16.npy\")\n",
    "y = np.load(\"./data/cascifw_apple/embeddings/labels.npy\")"
   ]
  },
  {
   "cell_type": "code",
   "execution_count": 4,
   "id": "76e7bc57-3a91-4213-acec-d8c53ac525f6",
   "metadata": {},
   "outputs": [
    {
     "data": {
      "text/plain": [
       "((5848, 384), (5848,))"
      ]
     },
     "execution_count": 4,
     "metadata": {},
     "output_type": "execute_result"
    }
   ],
   "source": [
    "X.shape, y.shape"
   ]
  },
  {
   "cell_type": "code",
   "execution_count": 5,
   "id": "089a399a-69cd-461f-8414-d8e9ab8a53ec",
   "metadata": {},
   "outputs": [],
   "source": [
    "X_train, X_test, y_train, y_test = train_test_split(X, y, test_size=0.25, random_state=42)"
   ]
  },
  {
   "cell_type": "code",
   "execution_count": 6,
   "id": "9a61b0cc-9a02-4dbe-b4dd-11f66c978964",
   "metadata": {},
   "outputs": [],
   "source": [
    "model = KNeighborsClassifier()\n",
    "hyperparams = {\"n_neighbors\": [5, 10, 15]}"
   ]
  },
  {
   "cell_type": "code",
   "execution_count": 7,
   "id": "8877b499-5515-40c3-97c6-7095db57b67a",
   "metadata": {},
   "outputs": [
    {
     "name": "stdout",
     "output_type": "stream",
     "text": [
      "Fitting 5 folds for each of 3 candidates, totalling 15 fits\n",
      "[CV] END ......................................n_neighbors=5; total time=   0.1s\n",
      "[CV] END ......................................n_neighbors=5; total time=   0.1s\n",
      "[CV] END ......................................n_neighbors=5; total time=   0.1s\n",
      "[CV] END ......................................n_neighbors=5; total time=   0.1s\n",
      "[CV] END ......................................n_neighbors=5; total time=   0.1s\n",
      "[CV] END .....................................n_neighbors=10; total time=   0.1s\n",
      "[CV] END .....................................n_neighbors=10; total time=   0.1s\n",
      "[CV] END .....................................n_neighbors=10; total time=   0.1s\n",
      "[CV] END .....................................n_neighbors=10; total time=   0.1s\n",
      "[CV] END .....................................n_neighbors=10; total time=   0.1s\n",
      "[CV] END .....................................n_neighbors=15; total time=   0.1s\n",
      "[CV] END .....................................n_neighbors=15; total time=   0.1s\n",
      "[CV] END .....................................n_neighbors=15; total time=   0.1s\n",
      "[CV] END .....................................n_neighbors=15; total time=   0.1s\n",
      "[CV] END .....................................n_neighbors=15; total time=   0.1s\n"
     ]
    },
    {
     "data": {
      "text/plain": [
       "{'mean_fit_time': array([0.00182319, 0.00166297, 0.00192809]),\n",
       " 'std_fit_time': array([0.00037143, 0.00069917, 0.00088118]),\n",
       " 'mean_score_time': array([0.10308919, 0.10948772, 0.12154789]),\n",
       " 'std_score_time': array([0.00575527, 0.01608718, 0.01035699]),\n",
       " 'param_n_neighbors': masked_array(data=[5, 10, 15],\n",
       "              mask=[False, False, False],\n",
       "        fill_value='?',\n",
       "             dtype=object),\n",
       " 'params': [{'n_neighbors': 5}, {'n_neighbors': 10}, {'n_neighbors': 15}],\n",
       " 'split0_test_score': array([0.83940774, 0.86218679, 0.85763098]),\n",
       " 'split1_test_score': array([0.87685291, 0.88141391, 0.89053592]),\n",
       " 'split2_test_score': array([0.84264538, 0.8608894 , 0.87913341]),\n",
       " 'split3_test_score': array([0.86431015, 0.8631699 , 0.87343216]),\n",
       " 'split4_test_score': array([0.86202965, 0.8677309 , 0.87457241]),\n",
       " 'mean_test_score': array([0.85704917, 0.86707818, 0.87506097]),\n",
       " 'std_test_score': array([0.0140599 , 0.00752915, 0.01060901]),\n",
       " 'rank_test_score': array([3, 2, 1], dtype=int32)}"
      ]
     },
     "execution_count": 7,
     "metadata": {},
     "output_type": "execute_result"
    }
   ],
   "source": [
    "gs = GridSearchCV(\n",
    "    estimator = model,\n",
    "    param_grid = hyperparams,\n",
    "    cv = 5,\n",
    "    verbose=2\n",
    ")\n",
    "\n",
    "gs.fit(X_train, y_train)\n",
    "\n",
    "gs.cv_results_"
   ]
  },
  {
   "cell_type": "markdown",
   "id": "eeb8057e-9385-4d52-b742-292898e81d9c",
   "metadata": {},
   "source": [
    "**Now we test the best model on our test set.**"
   ]
  },
  {
   "cell_type": "code",
   "execution_count": 8,
   "id": "6167de8d-3159-4657-b2ae-92c1e57c73b3",
   "metadata": {},
   "outputs": [
    {
     "name": "stdout",
     "output_type": "stream",
     "text": [
      "              precision    recall  f1-score   support\n",
      "\n",
      "           0       0.92      0.88      0.90       962\n",
      "           1       0.79      0.85      0.82       500\n",
      "\n",
      "    accuracy                           0.87      1462\n",
      "   macro avg       0.86      0.87      0.86      1462\n",
      "weighted avg       0.88      0.87      0.87      1462\n",
      "\n"
     ]
    }
   ],
   "source": [
    "best_model = gs.best_estimator_\n",
    "pred = best_model.predict(X_test)\n",
    "print(classification_report(y_test, pred))"
   ]
  },
  {
   "cell_type": "markdown",
   "id": "0a40cd0e-0897-447b-b8ed-2df5f8205a70",
   "metadata": {},
   "source": [
    "**Mean validation accuracy and test accuracy are very close, which is good!**"
   ]
  },
  {
   "cell_type": "markdown",
   "id": "44754c5c-5f9b-4d91-9f10-860e926baa8f",
   "metadata": {},
   "source": [
    "## Tasks (15 minutes)"
   ]
  },
  {
   "cell_type": "markdown",
   "id": "da0f8cbe-9258-4ddb-becd-bc684f7573de",
   "metadata": {},
   "source": [
    "- Try different combinations of embeddings and classifiers. You can find an overview of available models [here](https://scikit-learn.org/stable/supervised_learning.html). Non-Linear classifiers should do better in general. Use reasonable hyperparameters for your classifier of choice.\n",
    "- There are precalculated embeddings for `dino_resnet50`. You can make a comparison with the Resnet50 that was pretrained in a supervised way.\n",
    "- How does the accuracy change if you apply dimensionality reduction before fitting the classifier? What seems to be an ideal number of dimensions (e.g. Principal components) to include?\n",
    "\n",
    "**Let's see if you can find a combination that matches or surpasses the accuracy we achieved in our paper.**"
   ]
  },
  {
   "cell_type": "code",
   "execution_count": null,
   "id": "52af95dc-cfdf-4e64-a9ed-6fe48473ada9",
   "metadata": {},
   "outputs": [],
   "source": []
  }
 ],
 "metadata": {
  "kernelspec": {
   "display_name": "Python 3 (ipykernel)",
   "language": "python",
   "name": "python3"
  },
  "language_info": {
   "codemirror_mode": {
    "name": "ipython",
    "version": 3
   },
   "file_extension": ".py",
   "mimetype": "text/x-python",
   "name": "python",
   "nbconvert_exporter": "python",
   "pygments_lexer": "ipython3",
   "version": "3.8.9"
  }
 },
 "nbformat": 4,
 "nbformat_minor": 5
}
